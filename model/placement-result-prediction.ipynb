{
 "cells": [
  {
   "cell_type": "markdown",
   "id": "fa8d8299",
   "metadata": {},
   "source": [
    "## Placement Result Prediction\n",
    "\n",
    "#### Overview \n",
    "\n",
    "In this project, we'll look at the placements record and try to build a classifier to predict whether a given profile likely to be get placed or not.\n",
    "\n",
    "#### Data used\n",
    "\n",
    "Placement_Data_Full_Class.csv - Download from kaggle datasets (https://www.kaggle.com/sevdanurgenc/placement-data-full-class)"
   ]
  },
  {
   "cell_type": "code",
   "execution_count": 1,
   "id": "7960b8f8",
   "metadata": {},
   "outputs": [],
   "source": [
    "# Let's import the required python packages\n",
    "\n",
    "# Importing pandas for dataframe usage\n",
    "import pandas as pd\n",
    "\n",
    "# Importing necessary scikit-learn modules for transforming the data\n",
    "from sklearn.compose import ColumnTransformer\n",
    "from sklearn.pipeline import Pipeline\n",
    "from sklearn.preprocessing import OneHotEncoder\n",
    "from sklearn.model_selection import train_test_split\n",
    "\n",
    "# Importing matplotlib for data visualization\n",
    "import matplotlib.pyplot as plt\n",
    "%matplotlib inline"
   ]
  },
  {
   "cell_type": "code",
   "execution_count": 2,
   "id": "a7159427",
   "metadata": {},
   "outputs": [],
   "source": [
    "# Reading the 'Placement_Data_Full_Class.csv' file using pandas library to dataframe\n",
    "placement_record_df = pd.read_csv('./Data/Placement_Data_Full_Class.csv')"
   ]
  },
  {
   "cell_type": "code",
   "execution_count": 3,
   "id": "2f01bb95",
   "metadata": {},
   "outputs": [
    {
     "data": {
      "text/html": [
       "<div>\n",
       "<style scoped>\n",
       "    .dataframe tbody tr th:only-of-type {\n",
       "        vertical-align: middle;\n",
       "    }\n",
       "\n",
       "    .dataframe tbody tr th {\n",
       "        vertical-align: top;\n",
       "    }\n",
       "\n",
       "    .dataframe thead th {\n",
       "        text-align: right;\n",
       "    }\n",
       "</style>\n",
       "<table border=\"1\" class=\"dataframe\">\n",
       "  <thead>\n",
       "    <tr style=\"text-align: right;\">\n",
       "      <th></th>\n",
       "      <th>sl_no</th>\n",
       "      <th>gender</th>\n",
       "      <th>ssc_p</th>\n",
       "      <th>ssc_b</th>\n",
       "      <th>hsc_p</th>\n",
       "      <th>hsc_b</th>\n",
       "      <th>hsc_s</th>\n",
       "      <th>degree_p</th>\n",
       "      <th>degree_t</th>\n",
       "      <th>workex</th>\n",
       "      <th>etest_p</th>\n",
       "      <th>specialisation</th>\n",
       "      <th>mba_p</th>\n",
       "      <th>status</th>\n",
       "      <th>salary</th>\n",
       "    </tr>\n",
       "  </thead>\n",
       "  <tbody>\n",
       "    <tr>\n",
       "      <th>0</th>\n",
       "      <td>1</td>\n",
       "      <td>M</td>\n",
       "      <td>67.00</td>\n",
       "      <td>Others</td>\n",
       "      <td>91.00</td>\n",
       "      <td>Others</td>\n",
       "      <td>Commerce</td>\n",
       "      <td>58.00</td>\n",
       "      <td>Sci&amp;Tech</td>\n",
       "      <td>No</td>\n",
       "      <td>55.0</td>\n",
       "      <td>Mkt&amp;HR</td>\n",
       "      <td>58.80</td>\n",
       "      <td>Placed</td>\n",
       "      <td>270000.0</td>\n",
       "    </tr>\n",
       "    <tr>\n",
       "      <th>1</th>\n",
       "      <td>2</td>\n",
       "      <td>M</td>\n",
       "      <td>79.33</td>\n",
       "      <td>Central</td>\n",
       "      <td>78.33</td>\n",
       "      <td>Others</td>\n",
       "      <td>Science</td>\n",
       "      <td>77.48</td>\n",
       "      <td>Sci&amp;Tech</td>\n",
       "      <td>Yes</td>\n",
       "      <td>86.5</td>\n",
       "      <td>Mkt&amp;Fin</td>\n",
       "      <td>66.28</td>\n",
       "      <td>Placed</td>\n",
       "      <td>200000.0</td>\n",
       "    </tr>\n",
       "    <tr>\n",
       "      <th>2</th>\n",
       "      <td>3</td>\n",
       "      <td>M</td>\n",
       "      <td>65.00</td>\n",
       "      <td>Central</td>\n",
       "      <td>68.00</td>\n",
       "      <td>Central</td>\n",
       "      <td>Arts</td>\n",
       "      <td>64.00</td>\n",
       "      <td>Comm&amp;Mgmt</td>\n",
       "      <td>No</td>\n",
       "      <td>75.0</td>\n",
       "      <td>Mkt&amp;Fin</td>\n",
       "      <td>57.80</td>\n",
       "      <td>Placed</td>\n",
       "      <td>250000.0</td>\n",
       "    </tr>\n",
       "    <tr>\n",
       "      <th>3</th>\n",
       "      <td>4</td>\n",
       "      <td>M</td>\n",
       "      <td>56.00</td>\n",
       "      <td>Central</td>\n",
       "      <td>52.00</td>\n",
       "      <td>Central</td>\n",
       "      <td>Science</td>\n",
       "      <td>52.00</td>\n",
       "      <td>Sci&amp;Tech</td>\n",
       "      <td>No</td>\n",
       "      <td>66.0</td>\n",
       "      <td>Mkt&amp;HR</td>\n",
       "      <td>59.43</td>\n",
       "      <td>Not Placed</td>\n",
       "      <td>NaN</td>\n",
       "    </tr>\n",
       "    <tr>\n",
       "      <th>4</th>\n",
       "      <td>5</td>\n",
       "      <td>M</td>\n",
       "      <td>85.80</td>\n",
       "      <td>Central</td>\n",
       "      <td>73.60</td>\n",
       "      <td>Central</td>\n",
       "      <td>Commerce</td>\n",
       "      <td>73.30</td>\n",
       "      <td>Comm&amp;Mgmt</td>\n",
       "      <td>No</td>\n",
       "      <td>96.8</td>\n",
       "      <td>Mkt&amp;Fin</td>\n",
       "      <td>55.50</td>\n",
       "      <td>Placed</td>\n",
       "      <td>425000.0</td>\n",
       "    </tr>\n",
       "  </tbody>\n",
       "</table>\n",
       "</div>"
      ],
      "text/plain": [
       "   sl_no gender  ssc_p    ssc_b  hsc_p    hsc_b     hsc_s  degree_p  \\\n",
       "0      1      M  67.00   Others  91.00   Others  Commerce     58.00   \n",
       "1      2      M  79.33  Central  78.33   Others   Science     77.48   \n",
       "2      3      M  65.00  Central  68.00  Central      Arts     64.00   \n",
       "3      4      M  56.00  Central  52.00  Central   Science     52.00   \n",
       "4      5      M  85.80  Central  73.60  Central  Commerce     73.30   \n",
       "\n",
       "    degree_t workex  etest_p specialisation  mba_p      status    salary  \n",
       "0   Sci&Tech     No     55.0         Mkt&HR  58.80      Placed  270000.0  \n",
       "1   Sci&Tech    Yes     86.5        Mkt&Fin  66.28      Placed  200000.0  \n",
       "2  Comm&Mgmt     No     75.0        Mkt&Fin  57.80      Placed  250000.0  \n",
       "3   Sci&Tech     No     66.0         Mkt&HR  59.43  Not Placed       NaN  \n",
       "4  Comm&Mgmt     No     96.8        Mkt&Fin  55.50      Placed  425000.0  "
      ]
     },
     "execution_count": 3,
     "metadata": {},
     "output_type": "execute_result"
    }
   ],
   "source": [
    "# Printing the dataframe to understand the structure of the data\n",
    "placement_record_df.head() # head() returns the top 5 rows by default"
   ]
  },
  {
   "cell_type": "code",
   "execution_count": 4,
   "id": "0c75061f",
   "metadata": {},
   "outputs": [
    {
     "data": {
      "text/plain": [
       "(215, 15)"
      ]
     },
     "execution_count": 4,
     "metadata": {},
     "output_type": "execute_result"
    }
   ],
   "source": [
    "# Printing the shape of the dataframe\n",
    "placement_record_df.shape "
   ]
  },
  {
   "cell_type": "code",
   "execution_count": 5,
   "id": "9a980d4f",
   "metadata": {},
   "outputs": [
    {
     "name": "stdout",
     "output_type": "stream",
     "text": [
      "<class 'pandas.core.frame.DataFrame'>\n",
      "RangeIndex: 215 entries, 0 to 214\n",
      "Data columns (total 15 columns):\n",
      " #   Column          Non-Null Count  Dtype  \n",
      "---  ------          --------------  -----  \n",
      " 0   sl_no           215 non-null    int64  \n",
      " 1   gender          215 non-null    object \n",
      " 2   ssc_p           215 non-null    float64\n",
      " 3   ssc_b           215 non-null    object \n",
      " 4   hsc_p           215 non-null    float64\n",
      " 5   hsc_b           215 non-null    object \n",
      " 6   hsc_s           215 non-null    object \n",
      " 7   degree_p        215 non-null    float64\n",
      " 8   degree_t        215 non-null    object \n",
      " 9   workex          215 non-null    object \n",
      " 10  etest_p         215 non-null    float64\n",
      " 11  specialisation  215 non-null    object \n",
      " 12  mba_p           215 non-null    float64\n",
      " 13  status          215 non-null    object \n",
      " 14  salary          148 non-null    float64\n",
      "dtypes: float64(6), int64(1), object(8)\n",
      "memory usage: 25.3+ KB\n"
     ]
    }
   ],
   "source": [
    "# Getting the information about the columns in dataframe\n",
    "placement_record_df.info()"
   ]
  },
  {
   "cell_type": "code",
   "execution_count": 6,
   "id": "435a0562",
   "metadata": {},
   "outputs": [
    {
     "data": {
      "text/plain": [
       "sl_no              0\n",
       "gender             0\n",
       "ssc_p              0\n",
       "ssc_b              0\n",
       "hsc_p              0\n",
       "hsc_b              0\n",
       "hsc_s              0\n",
       "degree_p           0\n",
       "degree_t           0\n",
       "workex             0\n",
       "etest_p            0\n",
       "specialisation     0\n",
       "mba_p              0\n",
       "status             0\n",
       "salary            67\n",
       "dtype: int64"
      ]
     },
     "execution_count": 6,
     "metadata": {},
     "output_type": "execute_result"
    }
   ],
   "source": [
    "# Checking to see if the data has any missing values\n",
    "placement_record_df.isna().sum()"
   ]
  },
  {
   "cell_type": "code",
   "execution_count": 7,
   "id": "8727726b",
   "metadata": {},
   "outputs": [
    {
     "data": {
      "text/plain": [
       "sl_no               int64\n",
       "gender             object\n",
       "ssc_p             float64\n",
       "ssc_b              object\n",
       "hsc_p             float64\n",
       "hsc_b              object\n",
       "hsc_s              object\n",
       "degree_p          float64\n",
       "degree_t           object\n",
       "workex             object\n",
       "etest_p           float64\n",
       "specialisation     object\n",
       "mba_p             float64\n",
       "status             object\n",
       "salary            float64\n",
       "dtype: object"
      ]
     },
     "execution_count": 7,
     "metadata": {},
     "output_type": "execute_result"
    }
   ],
   "source": [
    "# Getting information about the datatypes in dataframe column\n",
    "placement_record_df.dtypes"
   ]
  },
  {
   "cell_type": "code",
   "execution_count": 8,
   "id": "e1b42671",
   "metadata": {},
   "outputs": [],
   "source": [
    "# Since no missing values to handle, proceeding further\n",
    "\n",
    "# Dropping the unwanted columns from the dataframe\n",
    "placement_record_df.drop(['sl_no', 'salary'], axis=1,  inplace=True)"
   ]
  },
  {
   "cell_type": "code",
   "execution_count": 9,
   "id": "8f0f8854",
   "metadata": {},
   "outputs": [
    {
     "data": {
      "text/html": [
       "<div>\n",
       "<style scoped>\n",
       "    .dataframe tbody tr th:only-of-type {\n",
       "        vertical-align: middle;\n",
       "    }\n",
       "\n",
       "    .dataframe tbody tr th {\n",
       "        vertical-align: top;\n",
       "    }\n",
       "\n",
       "    .dataframe thead th {\n",
       "        text-align: right;\n",
       "    }\n",
       "</style>\n",
       "<table border=\"1\" class=\"dataframe\">\n",
       "  <thead>\n",
       "    <tr style=\"text-align: right;\">\n",
       "      <th></th>\n",
       "      <th>gender</th>\n",
       "      <th>ssc_p</th>\n",
       "      <th>ssc_b</th>\n",
       "      <th>hsc_p</th>\n",
       "      <th>hsc_b</th>\n",
       "      <th>hsc_s</th>\n",
       "      <th>degree_p</th>\n",
       "      <th>degree_t</th>\n",
       "      <th>workex</th>\n",
       "      <th>etest_p</th>\n",
       "      <th>specialisation</th>\n",
       "      <th>mba_p</th>\n",
       "      <th>status</th>\n",
       "    </tr>\n",
       "  </thead>\n",
       "  <tbody>\n",
       "    <tr>\n",
       "      <th>0</th>\n",
       "      <td>M</td>\n",
       "      <td>67.00</td>\n",
       "      <td>Others</td>\n",
       "      <td>91.00</td>\n",
       "      <td>Others</td>\n",
       "      <td>Commerce</td>\n",
       "      <td>58.00</td>\n",
       "      <td>Sci&amp;Tech</td>\n",
       "      <td>No</td>\n",
       "      <td>55.0</td>\n",
       "      <td>Mkt&amp;HR</td>\n",
       "      <td>58.80</td>\n",
       "      <td>Placed</td>\n",
       "    </tr>\n",
       "    <tr>\n",
       "      <th>1</th>\n",
       "      <td>M</td>\n",
       "      <td>79.33</td>\n",
       "      <td>Central</td>\n",
       "      <td>78.33</td>\n",
       "      <td>Others</td>\n",
       "      <td>Science</td>\n",
       "      <td>77.48</td>\n",
       "      <td>Sci&amp;Tech</td>\n",
       "      <td>Yes</td>\n",
       "      <td>86.5</td>\n",
       "      <td>Mkt&amp;Fin</td>\n",
       "      <td>66.28</td>\n",
       "      <td>Placed</td>\n",
       "    </tr>\n",
       "    <tr>\n",
       "      <th>2</th>\n",
       "      <td>M</td>\n",
       "      <td>65.00</td>\n",
       "      <td>Central</td>\n",
       "      <td>68.00</td>\n",
       "      <td>Central</td>\n",
       "      <td>Arts</td>\n",
       "      <td>64.00</td>\n",
       "      <td>Comm&amp;Mgmt</td>\n",
       "      <td>No</td>\n",
       "      <td>75.0</td>\n",
       "      <td>Mkt&amp;Fin</td>\n",
       "      <td>57.80</td>\n",
       "      <td>Placed</td>\n",
       "    </tr>\n",
       "    <tr>\n",
       "      <th>3</th>\n",
       "      <td>M</td>\n",
       "      <td>56.00</td>\n",
       "      <td>Central</td>\n",
       "      <td>52.00</td>\n",
       "      <td>Central</td>\n",
       "      <td>Science</td>\n",
       "      <td>52.00</td>\n",
       "      <td>Sci&amp;Tech</td>\n",
       "      <td>No</td>\n",
       "      <td>66.0</td>\n",
       "      <td>Mkt&amp;HR</td>\n",
       "      <td>59.43</td>\n",
       "      <td>Not Placed</td>\n",
       "    </tr>\n",
       "    <tr>\n",
       "      <th>4</th>\n",
       "      <td>M</td>\n",
       "      <td>85.80</td>\n",
       "      <td>Central</td>\n",
       "      <td>73.60</td>\n",
       "      <td>Central</td>\n",
       "      <td>Commerce</td>\n",
       "      <td>73.30</td>\n",
       "      <td>Comm&amp;Mgmt</td>\n",
       "      <td>No</td>\n",
       "      <td>96.8</td>\n",
       "      <td>Mkt&amp;Fin</td>\n",
       "      <td>55.50</td>\n",
       "      <td>Placed</td>\n",
       "    </tr>\n",
       "  </tbody>\n",
       "</table>\n",
       "</div>"
      ],
      "text/plain": [
       "  gender  ssc_p    ssc_b  hsc_p    hsc_b     hsc_s  degree_p   degree_t  \\\n",
       "0      M  67.00   Others  91.00   Others  Commerce     58.00   Sci&Tech   \n",
       "1      M  79.33  Central  78.33   Others   Science     77.48   Sci&Tech   \n",
       "2      M  65.00  Central  68.00  Central      Arts     64.00  Comm&Mgmt   \n",
       "3      M  56.00  Central  52.00  Central   Science     52.00   Sci&Tech   \n",
       "4      M  85.80  Central  73.60  Central  Commerce     73.30  Comm&Mgmt   \n",
       "\n",
       "  workex  etest_p specialisation  mba_p      status  \n",
       "0     No     55.0         Mkt&HR  58.80      Placed  \n",
       "1    Yes     86.5        Mkt&Fin  66.28      Placed  \n",
       "2     No     75.0        Mkt&Fin  57.80      Placed  \n",
       "3     No     66.0         Mkt&HR  59.43  Not Placed  \n",
       "4     No     96.8        Mkt&Fin  55.50      Placed  "
      ]
     },
     "execution_count": 9,
     "metadata": {},
     "output_type": "execute_result"
    }
   ],
   "source": [
    "placement_record_df.head()"
   ]
  },
  {
   "cell_type": "code",
   "execution_count": 10,
   "id": "55700bbf",
   "metadata": {},
   "outputs": [],
   "source": [
    "# Step for setting up the data preprocessor for model training\n",
    "\n",
    "# Making a list of categorical Column\n",
    "categorical_columns = [\"gender\", \"hsc_s\", \"hsc_b\", \"degree_t\", \"workex\", \"specialisation\"]\n",
    "\n",
    "# Building transformers pipeline for transforming columns to a format used for training\n",
    "categorical_transformer = Pipeline(steps=[\n",
    "    ('onehot', OneHotEncoder(handle_unknown=\"ignore\"))\n",
    "])\n",
    "\n",
    "# Building a preprocessing pipeline for applying the transformations\n",
    "preprocesser = ColumnTransformer(transformers=[\n",
    "    ('categorical_transformer', categorical_transformer, categorical_columns)\n",
    "])\n"
   ]
  },
  {
   "cell_type": "markdown",
   "id": "f8c5df4e",
   "metadata": {},
   "source": [
    "### Using Sklearn to train a machine learning model to predict whether a person with a profile will get placed or not\n",
    "\n",
    "For selecting the right model (estimator) for the right task, we can take the help of sklearn's `ml_map`\n",
    "\n",
    "![\"sklearn_ml_map\"](https://scikit-learn.org/stable/_static/ml_map.png \"Sklearn's ML Map\")\n",
    "\n",
    "Since our data is a classification task, we can look at the classification algorithms path."
   ]
  },
  {
   "cell_type": "code",
   "execution_count": 11,
   "id": "fb5d72b6",
   "metadata": {},
   "outputs": [],
   "source": [
    "# Importing the metrics that can be used to evaluate the Classification models\n",
    "from sklearn.metrics import classification_report"
   ]
  },
  {
   "cell_type": "markdown",
   "id": "897d6052",
   "metadata": {},
   "source": [
    "#### 1. `START` -> `>50 samples` -> `predicting a category` -> `labeled data` -> `<100K` -> `Linear SVC`"
   ]
  },
  {
   "cell_type": "code",
   "execution_count": 12,
   "id": "8d4c4253",
   "metadata": {},
   "outputs": [],
   "source": [
    "# Importing the LinearSVC (Support Vector Classification) module from sklearn\n",
    "from sklearn.svm import LinearSVC"
   ]
  },
  {
   "cell_type": "code",
   "execution_count": 13,
   "id": "3eec2bf7",
   "metadata": {},
   "outputs": [],
   "source": [
    "# Initializing the LinearSVC model\n",
    "model_LinearSVC = Pipeline(steps=[\n",
    "    (\"preprocessor\", preprocesser),\n",
    "    (\"model_LinearSVC\", LinearSVC())\n",
    "])"
   ]
  },
  {
   "cell_type": "code",
   "execution_count": 14,
   "id": "888e6a17",
   "metadata": {},
   "outputs": [],
   "source": [
    "# Splitting the data into dependent and independent variables\n",
    "X = placement_record_df.drop(\"status\", axis=1)\n",
    "y = placement_record_df['status']"
   ]
  },
  {
   "cell_type": "code",
   "execution_count": 15,
   "id": "a66928fb",
   "metadata": {},
   "outputs": [],
   "source": [
    "# Spitting X and y into training and testing data\n",
    "X_train, X_test, y_train, y_test = train_test_split(X, y, test_size=0.15)"
   ]
  },
  {
   "cell_type": "code",
   "execution_count": 16,
   "id": "11431001",
   "metadata": {},
   "outputs": [],
   "source": [
    "# Training/fitting the training data to the LinearSVC model\n",
    "model_LinearSVC.fit(X_train, y_train);"
   ]
  },
  {
   "cell_type": "code",
   "execution_count": 17,
   "id": "8e97da29",
   "metadata": {},
   "outputs": [
    {
     "data": {
      "text/plain": [
       "0.6666666666666666"
      ]
     },
     "execution_count": 17,
     "metadata": {},
     "output_type": "execute_result"
    }
   ],
   "source": [
    "# Evaluating the trained model on the test data\n",
    "model_LinearSVC.score(X_test, y_test)"
   ]
  },
  {
   "cell_type": "code",
   "execution_count": 18,
   "id": "98ba0a4b",
   "metadata": {},
   "outputs": [],
   "source": [
    "# Predicting the results on test data\n",
    "y_preds = model_LinearSVC.predict(X_test)"
   ]
  },
  {
   "cell_type": "code",
   "execution_count": 19,
   "id": "b08c9fd7",
   "metadata": {
    "scrolled": true
   },
   "outputs": [
    {
     "name": "stdout",
     "output_type": "stream",
     "text": [
      "              precision    recall  f1-score   support\n",
      "\n",
      "  Not Placed       0.60      0.25      0.35        12\n",
      "      Placed       0.68      0.90      0.78        21\n",
      "\n",
      "    accuracy                           0.67        33\n",
      "   macro avg       0.64      0.58      0.56        33\n",
      "weighted avg       0.65      0.67      0.62        33\n",
      "\n"
     ]
    }
   ],
   "source": [
    "# Looking at the classification report for evaluating the model on more metrics\n",
    "print(classification_report(y_test, y_preds))"
   ]
  },
  {
   "cell_type": "markdown",
   "id": "26634038",
   "metadata": {},
   "source": [
    "#### 2. `START` -> `>50 samples` -> `predicting a category` -> `labeled data` -> `<100K` -> \n",
    "\n",
    "**`KNeighborsClassifier`**"
   ]
  },
  {
   "cell_type": "code",
   "execution_count": 20,
   "id": "d1f6a345",
   "metadata": {},
   "outputs": [],
   "source": [
    "# Importing the KNeighborsClassifier module from sklearn\n",
    "from sklearn.neighbors import KNeighborsClassifier"
   ]
  },
  {
   "cell_type": "code",
   "execution_count": 21,
   "id": "f4d8807c",
   "metadata": {},
   "outputs": [],
   "source": [
    "# Initializing the KNeighborsClassifier model\n",
    "model_KNeighbors_classifier = Pipeline(steps=[\n",
    "    (\"preprocessor\", preprocesser),\n",
    "    (\"model_LinearSVC\", KNeighborsClassifier())\n",
    "])"
   ]
  },
  {
   "cell_type": "code",
   "execution_count": 22,
   "id": "53bd8616",
   "metadata": {},
   "outputs": [],
   "source": [
    "# Splitting the data into dependent and independent variables\n",
    "X = placement_record_df.drop(\"status\", axis=1)\n",
    "y = placement_record_df['status']"
   ]
  },
  {
   "cell_type": "code",
   "execution_count": 23,
   "id": "b26a8712",
   "metadata": {},
   "outputs": [],
   "source": [
    "# Spitting X and y into training and testing data\n",
    "X_train, X_test, y_train, y_test = train_test_split(X, y, test_size=0.15)"
   ]
  },
  {
   "cell_type": "code",
   "execution_count": 24,
   "id": "ec949b53",
   "metadata": {},
   "outputs": [],
   "source": [
    "# Training/fitting the training data to the KNeighborsClassifier model\n",
    "model_KNeighbors_classifier.fit(X_train, y_train);"
   ]
  },
  {
   "cell_type": "code",
   "execution_count": 25,
   "id": "c805e94a",
   "metadata": {},
   "outputs": [
    {
     "data": {
      "text/plain": [
       "0.7575757575757576"
      ]
     },
     "execution_count": 25,
     "metadata": {},
     "output_type": "execute_result"
    }
   ],
   "source": [
    "# Evaluating the trained model on the test data\n",
    "model_KNeighbors_classifier.score(X_test, y_test)"
   ]
  },
  {
   "cell_type": "code",
   "execution_count": 26,
   "id": "2aaf9e6b",
   "metadata": {},
   "outputs": [],
   "source": [
    "# Predicting the results on test data\n",
    "y_preds = model_KNeighbors_classifier.predict(X_test)"
   ]
  },
  {
   "cell_type": "code",
   "execution_count": 27,
   "id": "a59cda36",
   "metadata": {},
   "outputs": [
    {
     "name": "stdout",
     "output_type": "stream",
     "text": [
      "              precision    recall  f1-score   support\n",
      "\n",
      "  Not Placed       0.60      0.33      0.43         9\n",
      "      Placed       0.79      0.92      0.85        24\n",
      "\n",
      "    accuracy                           0.76        33\n",
      "   macro avg       0.69      0.62      0.64        33\n",
      "weighted avg       0.74      0.76      0.73        33\n",
      "\n"
     ]
    }
   ],
   "source": [
    "# Looking at the classification report for evaluating the model on more metrics\n",
    "print(classification_report(y_test, y_preds))"
   ]
  },
  {
   "cell_type": "markdown",
   "id": "720f94cd",
   "metadata": {},
   "source": [
    "#### 3. `START` -> `>50 samples` -> `predicting a category` -> `labeled data` -> `<100K` -> \n",
    "\n",
    "**`RandomForestClassifier`**"
   ]
  },
  {
   "cell_type": "code",
   "execution_count": 28,
   "id": "e6afa753",
   "metadata": {},
   "outputs": [],
   "source": [
    "# Importing the RandomForestClassifier module from sklearn\n",
    "from sklearn.ensemble import RandomForestClassifier"
   ]
  },
  {
   "cell_type": "code",
   "execution_count": 29,
   "id": "e785e770",
   "metadata": {},
   "outputs": [],
   "source": [
    "# Initializing the RandomForestClassifier model\n",
    "model_random_forest_classifier = Pipeline(steps=[\n",
    "    (\"preprocessor\", preprocesser),\n",
    "    (\"model_LinearSVC\", RandomForestClassifier())\n",
    "])"
   ]
  },
  {
   "cell_type": "code",
   "execution_count": 30,
   "id": "eb9ea0fd",
   "metadata": {},
   "outputs": [],
   "source": [
    "# Splitting the data into dependent and independent variables\n",
    "X = placement_record_df.drop(\"status\", axis=1)\n",
    "y = placement_record_df['status']"
   ]
  },
  {
   "cell_type": "code",
   "execution_count": 31,
   "id": "63efc77e",
   "metadata": {},
   "outputs": [],
   "source": [
    "# Spitting X and y into training and testing data\n",
    "X_train, X_test, y_train, y_test = train_test_split(X, y, test_size=0.15)"
   ]
  },
  {
   "cell_type": "code",
   "execution_count": 32,
   "id": "3df1f9f4",
   "metadata": {},
   "outputs": [],
   "source": [
    "# Training/fitting the training data to the RandomForestClassifier model\n",
    "model_random_forest_classifier.fit(X_train, y_train);"
   ]
  },
  {
   "cell_type": "code",
   "execution_count": 33,
   "id": "92fb7116",
   "metadata": {},
   "outputs": [
    {
     "data": {
      "text/plain": [
       "0.6666666666666666"
      ]
     },
     "execution_count": 33,
     "metadata": {},
     "output_type": "execute_result"
    }
   ],
   "source": [
    "# Evaluating the trained model on the test data\n",
    "model_random_forest_classifier.score(X_test, y_test)"
   ]
  },
  {
   "cell_type": "markdown",
   "id": "eb85d4bd",
   "metadata": {},
   "source": [
    "#### Looking at the Cross Validation Score on the data"
   ]
  },
  {
   "cell_type": "code",
   "execution_count": 34,
   "id": "c5b7e166",
   "metadata": {},
   "outputs": [],
   "source": [
    "# Importing the cross_val_score from sklearn\n",
    "from sklearn.model_selection import cross_val_score"
   ]
  },
  {
   "cell_type": "code",
   "execution_count": 35,
   "id": "cbcb5f86",
   "metadata": {},
   "outputs": [
    {
     "data": {
      "text/plain": [
       "0.6139534883720931"
      ]
     },
     "execution_count": 35,
     "metadata": {},
     "output_type": "execute_result"
    }
   ],
   "source": [
    "# Perform a five fold cross validation on the LinearSVC Model\n",
    "cross_val_score(model_LinearSVC, X, y, cv=5).mean()"
   ]
  },
  {
   "cell_type": "code",
   "execution_count": 36,
   "id": "da9be6ba",
   "metadata": {},
   "outputs": [
    {
     "data": {
      "text/plain": [
       "0.586046511627907"
      ]
     },
     "execution_count": 36,
     "metadata": {},
     "output_type": "execute_result"
    }
   ],
   "source": [
    "# Perform a five fold cross validation on the KNeighborsClassifier Model\n",
    "cross_val_score(model_KNeighbors_classifier, X, y, cv=5).mean()"
   ]
  },
  {
   "cell_type": "code",
   "execution_count": 37,
   "id": "49f4721f",
   "metadata": {},
   "outputs": [
    {
     "data": {
      "text/plain": [
       "0.6372093023255815"
      ]
     },
     "execution_count": 37,
     "metadata": {},
     "output_type": "execute_result"
    }
   ],
   "source": [
    "# Perform a five fold cross validation on the RandomForestClassifier Model\n",
    "cross_val_score(model_random_forest_classifier, X, y, cv=5).mean()"
   ]
  },
  {
   "cell_type": "markdown",
   "id": "4e92d631",
   "metadata": {},
   "source": [
    "#### Comparing the Model performance on the test data, for the given data the RandomForestClassifier gives better preformance on an average. "
   ]
  },
  {
   "cell_type": "code",
   "execution_count": 38,
   "id": "489ef3bd",
   "metadata": {},
   "outputs": [],
   "source": [
    "# Saving the RandomForestClassifier Model to disk\n",
    "import pickle\n",
    "\n",
    "pickle.dump(model_random_forest_classifier, open(\"random_forest_classifier_model_v1.pkl\", \"wb\"))"
   ]
  }
 ],
 "metadata": {
  "kernelspec": {
   "display_name": "Python 3 (ipykernel)",
   "language": "python",
   "name": "python3"
  },
  "language_info": {
   "codemirror_mode": {
    "name": "ipython",
    "version": 3
   },
   "file_extension": ".py",
   "mimetype": "text/x-python",
   "name": "python",
   "nbconvert_exporter": "python",
   "pygments_lexer": "ipython3",
   "version": "3.7.0"
  }
 },
 "nbformat": 4,
 "nbformat_minor": 5
}
